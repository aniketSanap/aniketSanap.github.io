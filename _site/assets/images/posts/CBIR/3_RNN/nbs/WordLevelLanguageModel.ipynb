{
 "cells": [
  {
   "cell_type": "markdown",
   "metadata": {},
   "source": [
    "# Word level language model"
   ]
  },
  {
   "cell_type": "markdown",
   "metadata": {},
   "source": [
    "Make sure you have finished implementing the character level language model before you proceed!"
   ]
  },
  {
   "cell_type": "markdown",
   "metadata": {},
   "source": [
    "Now that you have some experience with LSTMs and language models, you will attempt to build a word level language model. While we were directly passing one hot encoded vectors as input to our character model, we need to do better than that for a word level. A word in itself contains a lot of information which a character does not. This is why we use word embeddings. Word embeddings are essentially just vector representations of input words. These vectors can capture a lot of semantic information which would otherwise be lost if we one hot encoded vectors for words. There are a lot of pretrained word embeddings created using different algorithms like Word2Vec, Glove, CoVE, ELMo etc. You can use any of these or simply add your own `nn.Embedding` layer to your model. The `nn.Embedding` layer acts as a trainable lookup table. This means that it contains `len(vocab)` number of rows and `embedding_size` number of columns."
   ]
  },
  {
   "cell_type": "markdown",
   "metadata": {},
   "source": [
    "### Using torchtext\n",
    "\n",
    "Text preprocessing can be very tedious and take a lot of time. `torchtext` does a lot of the heavy lifting you would otherwise have to do yourself and provides several iterators, tokenizers and datasets. \n",
    "\n",
    "#### The wiki dataset\n",
    "\n",
    "To train a language model, you can use the wiki dataset.\n",
    "\n",
    "```python\n",
    "import torch\n",
    "import torchtext\n",
    "from torchtext.data.utils import get_tokenizer\n",
    "from torchtext import data\n",
    "\n",
    "\n",
    "device = torch.device('cuda' if torch.cuda.is_available() else 'cpu')\n",
    "# Define what to do with the data\n",
    "TEXT = data.Field(\n",
    "    tokenize=get_tokenizer(\"spacy\"),\n",
    "    lower=True\n",
    ")\n",
    "\n",
    "# Download and split the data\n",
    "train_txt, val_txt, test_txt = torchtext.datasets.WikiText2.splits(TEXT)\n",
    "\n",
    "# Building the vocabulary\n",
    "TEXT.build_vocab(train_txt)\n",
    "\n",
    "# To iterate through data arranged for a language model\n",
    "train_iter, valid_iter, test_iter = data.BPTTIterator.splits(\n",
    "    (train_txt, val_txt, test_txt),\n",
    "    batch_size=32,\n",
    "    bptt_len=30, # this is where we specify the sequence length\n",
    "    device=device,\n",
    "    repeat=False\n",
    ")\n",
    "```"
   ]
  },
  {
   "cell_type": "code",
   "execution_count": null,
   "metadata": {},
   "outputs": [],
   "source": []
  }
 ],
 "metadata": {
  "kernelspec": {
   "display_name": "Python 3",
   "language": "python",
   "name": "python3"
  },
  "language_info": {
   "codemirror_mode": {
    "name": "ipython",
    "version": 3
   },
   "file_extension": ".py",
   "mimetype": "text/x-python",
   "name": "python",
   "nbconvert_exporter": "python",
   "pygments_lexer": "ipython3",
   "version": "3.7.3"
  }
 },
 "nbformat": 4,
 "nbformat_minor": 4
}
